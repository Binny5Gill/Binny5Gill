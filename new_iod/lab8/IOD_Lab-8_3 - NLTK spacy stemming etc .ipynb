{
 "cells": [
  {
   "cell_type": "markdown",
   "metadata": {
    "id": "XXUiceLiLNOv"
   },
   "source": [
    "<div>\n",
    "<img src=https://www.institutedata.com/wp-content/uploads/2019/10/iod_h_tp_primary_c.svg width=\"300\">\n",
    "</div>"
   ]
  },
  {
   "cell_type": "markdown",
   "metadata": {
    "id": "SmJwFqq5LNOx"
   },
   "source": [
    "# Lab 8.3: Working with Text\n",
    "- Using [NLTK](http://www.nltk.org) (Natural Language Toolkit)\n",
    "- Using [spaCy](https://spacy.io)\n",
    "\n",
    "INSTRUCTIONS:\n",
    "- Run the cells\n",
    "- Observe and understand the results\n",
    "- Answer the questions"
   ]
  },
  {
   "cell_type": "markdown",
   "metadata": {
    "id": "I83eiiJqLNO0"
   },
   "source": [
    "## Import libraries"
   ]
  },
  {
   "cell_type": "code",
   "execution_count": 3,
   "metadata": {
    "ExecuteTime": {
     "end_time": "2019-06-17T01:17:23.125143Z",
     "start_time": "2019-06-17T01:17:20.625946Z"
    },
    "id": "-ecJn_1MLNO4"
   },
   "outputs": [],
   "source": [
    "## Import Libraries\n",
    "%matplotlib inline\n",
    "import matplotlib.pyplot as plt\n",
    "from collections import Counter\n",
    "from nltk.tokenize import word_tokenize\n",
    "\n",
    "import regex as re\n",
    "import spacy\n",
    "#import nltk"
   ]
  },
  {
   "cell_type": "markdown",
   "metadata": {
    "id": "OsSgzr8MLNO9"
   },
   "source": [
    "## Load data"
   ]
  },
  {
   "cell_type": "code",
   "execution_count": 2,
   "metadata": {
    "ExecuteTime": {
     "end_time": "2019-06-17T01:17:24.800475Z",
     "start_time": "2019-06-17T01:17:24.784516Z"
    },
    "id": "HvyU9ZbtLNPA"
   },
   "outputs": [],
   "source": [
    "## Loading the data\n",
    "\n",
    "input_file = 'ncc-1701-D.txt'\n",
    "\n",
    "with open(input_file, 'r') as f:\n",
    "    text = f.read()"
   ]
  },
  {
   "cell_type": "markdown",
   "metadata": {
    "id": "KF9gBdpALNPE"
   },
   "source": [
    "## Inspect the data"
   ]
  },
  {
   "cell_type": "code",
   "execution_count": 4,
   "metadata": {
    "ExecuteTime": {
     "end_time": "2019-06-17T01:17:28.662206Z",
     "start_time": "2019-06-17T01:17:28.656190Z"
    },
    "id": "-JImxUzrLNPG",
    "outputId": "13ce31ea-531e-4abd-8f21-c726df89bb21",
    "scrolled": true
   },
   "outputs": [
    {
     "name": "stdout",
     "output_type": "stream",
     "text": [
      "USS Enterprise (NCC-1701-D)\n",
      "\n",
      "\"For five hundred years, every ship that has borne the name of the Enterprise has become a legend. This one is no different.\"\n",
      "\n",
      "The USS Enterprise (NCC-1701-D) was a 24th century United Federation of Planets Galaxy Class starship operated by Starfleet, and the fifth Federation ship to bear the name Enterprise. During her career, the Enterprise served as the Federation flagship. The Enterprise was destroyed during the Battle of Veridian III in 2371.\n",
      "\n",
      "==History==\n",
      "===Construction and launch===\n",
      "The Enterprise was built at Utopia Planitia Fleet Yards orbiting Mars in the Solar system. The construction was a massive undertaking, involving thousands of people across disciplines. Construction was supervised by Commander Orfil Quinteros. Dr. Leah Brahms was responsible for much of the Enterprise's warp propulsion system design. Some of the Enterprise's components were derived from technology originally developed on the USS Pegasus.\n",
      "\n",
      "One of the ship's nacelle tube was\n"
     ]
    }
   ],
   "source": [
    "print(text[:1000])"
   ]
  },
  {
   "cell_type": "markdown",
   "metadata": {
    "id": "H5ePf_5bLNPK"
   },
   "source": [
    "## Work the data\n",
    "- if necessary or desired\n",
    "    - remove text or content, e.g. quotes (\") or metadata (===)\n",
    "    - add content or markers, e.g. (#FLAG, --NAME--)\n",
    "    - remove or convert special symbols, e.g. \"é\" to \"e\"\n",
    "    - remove or convert emoticons"
   ]
  },
  {
   "cell_type": "code",
   "execution_count": 6,
   "metadata": {
    "ExecuteTime": {
     "end_time": "2019-06-17T01:18:07.223561Z",
     "start_time": "2019-06-17T01:18:07.219572Z"
    },
    "id": "BRq7VfoOLNPM"
   },
   "outputs": [],
   "source": [
    "# ANSWER\n",
    "text = re.sub(r'\\n={2,}\\n', '', text)\n",
    "# Remove quotes\n",
    "text = re.sub(r'\"', '', text)\n",
    "re.sub(r'[\"=]+', '', text)\n",
    "# Remove or replace special symbols, e.g., \"é\" to \"e\"\n",
    "text = text.replace('é', 'e')"
   ]
  },
  {
   "cell_type": "code",
   "execution_count": 8,
   "metadata": {},
   "outputs": [],
   "source": [
    "# Remove emoticons\n",
    "emoticons = [\n",
    "    r':\\)', r':\\(', r':D', r':P', r';\\)', r':o', r':/', r':\\|'\n",
    "]\n",
    "for emoticon in emoticons:\n",
    "    text = re.sub(emoticon, '', text)"
   ]
  },
  {
   "cell_type": "code",
   "execution_count": 9,
   "metadata": {},
   "outputs": [],
   "source": [
    "def remove_section_markers(text):\n",
    "    \"\"\"\n",
    "    Remove section markers (e.g., ==, ===) from the text.\n",
    "    \"\"\"\n",
    "    # Remove == and === section markers\n",
    "    cleaned_text = re.sub(r'={2,}', '', text)\n",
    "    return cleaned_text"
   ]
  },
  {
   "cell_type": "code",
   "execution_count": 10,
   "metadata": {},
   "outputs": [
    {
     "name": "stdout",
     "output_type": "stream",
     "text": [
      "USS Enterprise (NCC-1701-D)\n",
      "\n",
      "For five hundred years, every ship that has borne the name of the Enterprise has become a legend. This one is no different.\n",
      "\n",
      "The USS Enterprise (NCC-1701-D) was a 24th century United Federation of Planets Galaxy Class starship operated by Starfleet, and the fifth Federation ship to bear the name Enterprise. During her career, the Enterprise served as the Federation flagship. The Enterprise was destroyed during the Battle of Veridian III in 2371.\n",
      "\n",
      "History\n",
      "Construction and launch\n",
      "The Enterprise was built at Utopia Planitia Fleet Yards orbiting Mars in the Solar system. The construction was a massive undertaking, involving thousands of people across disciplines. Construction was supervised by Commander Orfil Quinteros. Dr. Leah Brahms was responsible for much of the Enterprise's warp propulsion system design. Some of the Enterprise's components were derived from technology originally developed on the USS Pegasus.\n",
      "\n",
      "One of the ship's nacelle tube was the site of a multiple murder-suicide while she was still under construction at Utopia Planitia. A member of the construction team, Walter Pierce, became jealous of a former lover's new relationship. He killed the two officers, Marla Finn and William Hodges, then disposed of their bodies in the plasma stream. Pierce committed suicide in the same manner, leaving a telepathic imprint in a bulkhead that was not discovered until 2370.\n",
      "\n",
      "On stardate 40759.5, in the year 2363, the Enterprise was launched from Mars. On stardate 41025.5, the Enterprise was commissioned.\n",
      "\n",
      "These stardates weren't mentioned in dialog; they were from the Enterprise dedication plaque.\n",
      "\n",
      "Final systems completion and shakedown was conducted at Earth Station McKinley. Captain Jean-Luc Picard took command of the ship on stardate 41148 at the order of Rear Admiral Norah Satie.\n",
      "\n",
      "Legacy\n",
      "Commander Riker was upset over the loss of the Enterprise. Having hoped he would one day command the ship, he was disappointed that he never got that opportunity. However, Picard expressed doubt that the Enterprise-D would be the last vessel to carry the name.\n",
      "\n",
      "The Enterprise was so dear to Worf that, shortly after being reassigned to Deep Space 9 in 2372, he briefly considered resigning from Starfleet. Station commander Captain Benjamin Sisko expressed regret on the loss of the Enterprise and offered his condolences over the destruction of the ship to Worf, saying the Enterprise was a good ship.\n",
      "\n",
      "Captain Picard's belief that the Enterprise-D would not be the final ship to bear the name was borne out with the christening of the Class Sovereign USS Enterprise NCC-1701-E, later the same year. In that instance, the legacy of the Enterprise continued with Picard reprising his role as CO and selecting most of the former crew from the Enterprise-D, with the notable exception of Worf due to his most recent assignment to DS9 (though he temporarily joined the Enterprise-E crew on several of their more notable missions).\n"
     ]
    }
   ],
   "source": [
    "cleaned_text = remove_section_markers(text)\n",
    "\n",
    "print(cleaned_text)"
   ]
  },
  {
   "cell_type": "markdown",
   "metadata": {
    "id": "xMG9Yim0LNPP"
   },
   "source": [
    "## Helper method"
   ]
  },
  {
   "cell_type": "code",
   "execution_count": 11,
   "metadata": {},
   "outputs": [],
   "source": [
    "def plot_words(tokens, top=30):\n",
    "    \"\"\"\n",
    "    Plot a bar chart of the frequency of words in the given list of tokens.\n",
    "\n",
    "    :param tokens: List of words (tokens) from which to count word frequencies.\n",
    "    :param top: Number of top words to display in the bar chart.\n",
    "    \"\"\"\n",
    "    tokens_counter = Counter(tokens)\n",
    "    tok = [t for (t, _) in tokens_counter.most_common()]\n",
    "    val = [v for (_, v) in tokens_counter.most_common()]\n",
    "\n",
    "    plt.figure(figsize=(16, 6))\n",
    "    plt.bar(tok[:top], val[:top])\n",
    "    plt.title(f'Number of terms: {len(tokens_counter)}')\n",
    "    plt.xticks(rotation=90)\n",
    "    plt.xlabel('Words')\n",
    "    plt.ylabel('Frequency')\n",
    "    plt.show()"
   ]
  },
  {
   "cell_type": "code",
   "execution_count": 12,
   "metadata": {
    "ExecuteTime": {
     "end_time": "2019-06-17T01:18:44.351070Z",
     "start_time": "2019-06-17T01:18:44.330126Z"
    },
    "id": "3oIPRH3gLNPQ"
   },
   "outputs": [],
   "source": [
    "# create a bar chart of the frequency of the words in the text\n",
    "def plot_words(tokens, top = 30):\n",
    "    tokens_counter = Counter(tokens)\n",
    "    tok = [t for (t, _) in tokens_counter.most_common()]\n",
    "    val = [v for (_, v) in tokens_counter.most_common()]\n",
    "\n",
    "    plt.figure(figsize = (16, 6))\n",
    "    plt.bar(tok[:top], val[:top])\n",
    "    plt.title('Number of terms: %d' % len(tokens_counter))\n",
    "    plt.xticks(rotation = 90)\n",
    "\n",
    "    plt.show()"
   ]
  },
  {
   "cell_type": "markdown",
   "metadata": {
    "id": "U1FsFC6yLNPS"
   },
   "source": [
    "## spaCy model invocation and text processing\n",
    "spaCy does the processing of the text as part of the reading of the data."
   ]
  },
  {
   "cell_type": "code",
   "execution_count": 18,
   "metadata": {},
   "outputs": [],
   "source": [
    "import nltk\n",
    "# Add custom directory path\n",
    "nltk.data.path.append('/custom/nltk_data/')"
   ]
  },
  {
   "cell_type": "code",
   "execution_count": 20,
   "metadata": {},
   "outputs": [],
   "source": [
    "# Load the spaCy model\n",
    "nlp = spacy.load('en_core_web_sm')\n"
   ]
  },
  {
   "cell_type": "code",
   "execution_count": 21,
   "metadata": {},
   "outputs": [],
   "source": [
    "# Process the text\n",
    "doc = nlp(text)"
   ]
  },
  {
   "cell_type": "code",
   "execution_count": 22,
   "metadata": {},
   "outputs": [
    {
     "name": "stdout",
     "output_type": "stream",
     "text": [
      "USS PROPN compound\n",
      "Enterprise PROPN nsubj\n",
      "( PUNCT punct\n",
      "NCC-1701 PROPN compound\n",
      "- PUNCT punct\n",
      "D PROPN appos\n",
      ") PUNCT punct\n",
      "\n",
      "\n",
      " SPACE dep\n",
      "For ADP prep\n",
      "five NUM compound\n",
      "hundred NUM nummod\n",
      "years NOUN pobj\n",
      ", PUNCT punct\n",
      "every DET det\n",
      "ship NOUN appos\n",
      "that PRON nsubj\n",
      "has AUX aux\n",
      "borne VERB relcl\n",
      "the DET det\n",
      "name NOUN dobj\n",
      "of ADP prep\n",
      "the DET det\n",
      "Enterprise PROPN pobj\n",
      "has AUX aux\n",
      "become VERB ROOT\n",
      "a DET det\n",
      "legend NOUN attr\n",
      ". PUNCT punct\n",
      "This DET det\n",
      "one NOUN nsubj\n",
      "is AUX ROOT\n",
      "no ADV neg\n",
      "different ADJ acomp\n",
      ". PUNCT punct\n",
      "\n",
      "\n",
      " SPACE dep\n",
      "The DET det\n",
      "USS PROPN compound\n",
      "Enterprise PROPN nsubj\n",
      "( PUNCT punct\n",
      "NCC-1701 PROPN compound\n",
      "- PUNCT punct\n",
      "D PROPN appos\n",
      ") PUNCT punct\n",
      "was AUX ROOT\n",
      "a DET det\n",
      "24th ADJ amod\n",
      "century NOUN attr\n",
      "United PROPN compound\n",
      "Federation PROPN appos\n",
      "of ADP prep\n",
      "Planets PROPN compound\n",
      "Galaxy PROPN compound\n",
      "Class PROPN compound\n",
      "starship NOUN pobj\n",
      "operated VERB acl\n",
      "by ADP agent\n",
      "Starfleet PROPN pobj\n",
      ", PUNCT punct\n",
      "and CCONJ cc\n",
      "the DET det\n",
      "fifth ADJ amod\n",
      "Federation PROPN compound\n",
      "ship NOUN conj\n",
      "to PART aux\n",
      "bear VERB relcl\n",
      "the DET det\n",
      "name NOUN compound\n",
      "Enterprise NOUN dobj\n",
      ". PUNCT punct\n",
      "During ADP prep\n",
      "her PRON poss\n",
      "career NOUN pobj\n",
      ", PUNCT punct\n",
      "the DET det\n",
      "Enterprise PROPN nsubj\n",
      "served VERB ROOT\n",
      "as ADP prep\n",
      "the DET det\n",
      "Federation PROPN compound\n",
      "flagship NOUN pobj\n",
      ". PUNCT punct\n",
      "The DET det\n",
      "Enterprise PROPN nsubjpass\n",
      "was AUX auxpass\n",
      "destroyed VERB ROOT\n",
      "during ADP prep\n",
      "the DET det\n",
      "Battle PROPN pobj\n",
      "of ADP prep\n",
      "Veridian PROPN compound\n",
      "III PROPN pobj\n",
      "in ADP prep\n",
      "2371 NUM pobj\n",
      ". PUNCT punct\n",
      "\n",
      "\n",
      " SPACE dep\n",
      "= PROPN nsubjpass\n",
      "= NOUN nmod\n",
      "History== PROPN nmod\n",
      "\n",
      " SPACE dep\n",
      "= NOUN case\n",
      "= NOUN dobj\n",
      "= NOUN nsubjpass\n",
      "Construction PROPN dobj\n",
      "and CCONJ cc\n",
      "launch=== NOUN conj\n",
      "\n",
      " SPACE dep\n",
      "The DET det\n",
      "Enterprise PROPN nsubjpass\n",
      "was AUX auxpass\n",
      "built VERB ROOT\n",
      "at ADP prep\n",
      "Utopia PROPN compound\n",
      "Planitia PROPN compound\n",
      "Fleet PROPN compound\n",
      "Yards PROPN pobj\n",
      "orbiting VERB acl\n",
      "Mars PROPN dobj\n",
      "in ADP prep\n",
      "the DET det\n",
      "Solar PROPN compound\n",
      "system NOUN pobj\n",
      ". PUNCT punct\n",
      "The DET det\n",
      "construction NOUN nsubj\n",
      "was AUX ROOT\n",
      "a DET det\n",
      "massive ADJ amod\n",
      "undertaking NOUN attr\n",
      ", PUNCT punct\n",
      "involving VERB acl\n",
      "thousands NOUN dobj\n",
      "of ADP prep\n",
      "people NOUN pobj\n",
      "across ADP prep\n",
      "disciplines NOUN pobj\n",
      ". PUNCT punct\n",
      "Construction NOUN nsubjpass\n",
      "was AUX auxpass\n",
      "supervised VERB ROOT\n",
      "by ADP agent\n",
      "Commander PROPN compound\n",
      "Orfil PROPN compound\n",
      "Quinteros PROPN pobj\n",
      ". PUNCT punct\n",
      "Dr. PROPN compound\n",
      "Leah PROPN compound\n",
      "Brahms PROPN nsubj\n",
      "was AUX ROOT\n",
      "responsible ADJ acomp\n",
      "for ADP prep\n",
      "much ADJ pobj\n",
      "of ADP prep\n",
      "the DET det\n",
      "Enterprise NOUN poss\n",
      "'s PART case\n",
      "warp ADJ amod\n",
      "propulsion NOUN compound\n",
      "system NOUN compound\n",
      "design NOUN pobj\n",
      ". PUNCT punct\n",
      "Some PRON nsubjpass\n",
      "of ADP prep\n",
      "the DET det\n",
      "Enterprise NOUN poss\n",
      "'s PART case\n",
      "components NOUN pobj\n",
      "were AUX auxpass\n",
      "derived VERB ROOT\n",
      "from ADP prep\n",
      "technology NOUN pobj\n",
      "originally ADV advmod\n",
      "developed VERB acl\n",
      "on ADP prep\n",
      "the DET det\n",
      "USS PROPN compound\n",
      "Pegasus PROPN pobj\n",
      ". PUNCT punct\n",
      "\n",
      "\n",
      " SPACE dep\n",
      "One NUM nsubj\n",
      "of ADP prep\n",
      "the DET det\n",
      "ship NOUN poss\n",
      "'s PART case\n",
      "nacelle NOUN compound\n",
      "tube NOUN pobj\n",
      "was AUX ROOT\n",
      "the DET det\n",
      "site NOUN attr\n",
      "of ADP prep\n",
      "a DET det\n",
      "multiple ADJ amod\n",
      "murder NOUN compound\n",
      "- PUNCT punct\n",
      "suicide NOUN pobj\n",
      "while SCONJ mark\n",
      "she PRON nsubj\n",
      "was AUX advcl\n",
      "still ADV advmod\n",
      "under ADP prep\n",
      "construction NOUN pobj\n",
      "at ADP prep\n",
      "Utopia PROPN compound\n",
      "Planitia PROPN pobj\n",
      ". PUNCT punct\n",
      "A DET det\n",
      "member NOUN nsubj\n",
      "of ADP prep\n",
      "the DET det\n",
      "construction NOUN compound\n",
      "team NOUN pobj\n",
      ", PUNCT punct\n",
      "Walter PROPN compound\n",
      "Pierce PROPN appos\n",
      ", PUNCT punct\n",
      "became VERB ROOT\n",
      "jealous ADJ acomp\n",
      "of ADP prep\n",
      "a DET det\n",
      "former ADJ amod\n",
      "lover NOUN poss\n",
      "'s PART case\n",
      "new ADJ amod\n",
      "relationship NOUN pobj\n",
      ". PUNCT punct\n",
      "He PRON nsubj\n",
      "killed VERB ROOT\n",
      "the DET det\n",
      "two NUM nummod\n",
      "officers NOUN dobj\n",
      ", PUNCT punct\n",
      "Marla PROPN compound\n",
      "Finn PROPN appos\n",
      "and CCONJ cc\n",
      "William PROPN compound\n",
      "Hodges PROPN conj\n",
      ", PUNCT punct\n",
      "then ADV advmod\n",
      "disposed VERB acl\n",
      "of ADP prep\n",
      "their PRON poss\n",
      "bodies NOUN pobj\n",
      "in ADP prep\n",
      "the DET det\n",
      "plasma NOUN compound\n",
      "stream NOUN pobj\n",
      ". PUNCT punct\n",
      "Pierce PROPN nsubj\n",
      "committed VERB ROOT\n",
      "suicide NOUN dobj\n",
      "in ADP prep\n",
      "the DET det\n",
      "same ADJ amod\n",
      "manner NOUN pobj\n",
      ", PUNCT punct\n",
      "leaving VERB advcl\n",
      "a DET det\n",
      "telepathic ADJ amod\n",
      "imprint NOUN dobj\n",
      "in ADP prep\n",
      "a DET det\n",
      "bulkhead NOUN pobj\n",
      "that PRON nsubjpass\n",
      "was AUX auxpass\n",
      "not PART neg\n",
      "discovered VERB relcl\n",
      "until ADP prep\n",
      "2370 NUM pobj\n",
      ". PUNCT punct\n",
      "\n",
      "\n",
      " SPACE dep\n",
      "On ADP prep\n",
      "stardate NOUN pobj\n",
      "40759.5 NUM nummod\n",
      ", PUNCT punct\n",
      "in ADP prep\n",
      "the DET det\n",
      "year NOUN pobj\n",
      "2363 NUM nummod\n",
      ", PUNCT punct\n",
      "the DET det\n",
      "Enterprise PROPN nsubjpass\n",
      "was AUX auxpass\n",
      "launched VERB ROOT\n",
      "from ADP prep\n",
      "Mars PROPN pobj\n",
      ". PUNCT punct\n",
      "On ADP prep\n",
      "stardate NOUN pobj\n",
      "41025.5 NUM pobj\n",
      ", PUNCT punct\n",
      "the DET det\n",
      "Enterprise PROPN nsubjpass\n",
      "was AUX auxpass\n",
      "commissioned VERB ROOT\n",
      ". PUNCT punct\n",
      "\n",
      "\n",
      " SPACE dep\n",
      "These DET det\n",
      "stardates NOUN nsubjpass\n",
      "were AUX auxpass\n",
      "n't PART neg\n",
      "mentioned VERB ccomp\n",
      "in ADP prep\n",
      "dialog NOUN pobj\n",
      "; PUNCT punct\n",
      "they PRON nsubj\n",
      "were AUX ROOT\n",
      "from ADP prep\n",
      "the DET det\n",
      "Enterprise NOUN compound\n",
      "dedication NOUN compound\n",
      "plaque NOUN pobj\n",
      ". PUNCT punct\n",
      "\n",
      "\n",
      " SPACE dep\n",
      "Final ADJ compound\n",
      "systems NOUN compound\n",
      "completion NOUN nsubjpass\n",
      "and CCONJ cc\n",
      "shakedown NOUN conj\n",
      "was AUX auxpass\n",
      "conducted VERB ROOT\n",
      "at ADP prep\n",
      "Earth PROPN compound\n",
      "Station PROPN compound\n",
      "McKinley PROPN pobj\n",
      ". PUNCT punct\n",
      "Captain PROPN compound\n",
      "Jean PROPN compound\n",
      "- PUNCT punct\n",
      "Luc PROPN compound\n",
      "Picard PROPN nsubj\n",
      "took VERB ROOT\n",
      "command NOUN dobj\n",
      "of ADP prep\n",
      "the DET det\n",
      "ship NOUN pobj\n",
      "on ADP prep\n",
      "stardate NOUN pobj\n",
      "41148 NUM nummod\n",
      "at ADP prep\n",
      "the DET det\n",
      "order NOUN pobj\n",
      "of ADP prep\n",
      "Rear PROPN compound\n",
      "Admiral PROPN compound\n",
      "Norah PROPN compound\n",
      "Satie PROPN pobj\n",
      ". PUNCT punct\n",
      "\n",
      "\n",
      " SPACE dep\n",
      "= NOUN nmod\n",
      "= ADJ amod\n",
      "= NOUN compound\n",
      "Legacy=== NOUN compound\n",
      "\n",
      " SPACE dep\n",
      "Commander PROPN compound\n",
      "Riker PROPN nsubj\n",
      "was AUX conj\n",
      "upset ADJ acomp\n",
      "over ADP prep\n",
      "the DET det\n",
      "loss NOUN pobj\n",
      "of ADP prep\n",
      "the DET det\n",
      "Enterprise NOUN pobj\n",
      ". PUNCT punct\n",
      "Having AUX aux\n",
      "hoped VERB advcl\n",
      "he PRON nsubj\n",
      "would AUX aux\n",
      "one NUM nummod\n",
      "day NOUN npadvmod\n",
      "command VERB ccomp\n",
      "the DET det\n",
      "ship NOUN dobj\n",
      ", PUNCT punct\n",
      "he PRON nsubjpass\n",
      "was AUX auxpass\n",
      "disappointed VERB ROOT\n",
      "that SCONJ mark\n",
      "he PRON nsubj\n",
      "never ADV neg\n",
      "got VERB ccomp\n",
      "that DET det\n",
      "opportunity NOUN dobj\n",
      ". PUNCT punct\n",
      "However ADV advmod\n",
      ", PUNCT punct\n",
      "Picard PROPN nsubj\n",
      "expressed VERB ROOT\n",
      "doubt NOUN dobj\n",
      "that SCONJ mark\n",
      "the DET det\n",
      "Enterprise NOUN compound\n",
      "- PUNCT punct\n",
      "D NOUN nsubj\n",
      "would AUX aux\n",
      "be AUX acl\n",
      "the DET det\n",
      "last ADJ amod\n",
      "vessel NOUN attr\n",
      "to PART aux\n",
      "carry VERB relcl\n",
      "the DET det\n",
      "name NOUN dobj\n",
      ". PUNCT punct\n",
      "\n",
      "\n",
      " SPACE dep\n",
      "The DET det\n",
      "Enterprise PROPN nsubj\n",
      "was AUX ROOT\n",
      "so ADV advmod\n",
      "dear ADJ acomp\n",
      "to ADP prep\n",
      "Worf PROPN pobj\n",
      "that SCONJ nsubj\n",
      ", PUNCT punct\n",
      "shortly ADV advmod\n",
      "after ADP prep\n",
      "being AUX auxpass\n",
      "reassigned VERB pcomp\n",
      "to ADP prep\n",
      "Deep PROPN compound\n",
      "Space PROPN pobj\n",
      "9 NUM nummod\n",
      "in ADP prep\n",
      "2372 NUM pobj\n",
      ", PUNCT punct\n",
      "he PRON nsubj\n",
      "briefly ADV advmod\n",
      "considered VERB ccomp\n",
      "resigning VERB xcomp\n",
      "from ADP prep\n",
      "Starfleet PROPN pobj\n",
      ". PUNCT punct\n",
      "Station NOUN compound\n",
      "commander NOUN compound\n",
      "Captain PROPN compound\n",
      "Benjamin PROPN compound\n",
      "Sisko PROPN nsubj\n",
      "expressed VERB ROOT\n",
      "regret NOUN dobj\n",
      "on ADP prep\n",
      "the DET det\n",
      "loss NOUN pobj\n",
      "of ADP prep\n",
      "the DET det\n",
      "Enterprise PROPN pobj\n",
      "and CCONJ cc\n",
      "offered VERB conj\n",
      "his PRON poss\n",
      "condolences NOUN dobj\n",
      "over ADP prep\n",
      "the DET det\n",
      "destruction NOUN pobj\n",
      "of ADP prep\n",
      "the DET det\n",
      "ship NOUN pobj\n",
      "to ADP dative\n",
      "Worf PROPN pobj\n",
      ", PUNCT punct\n",
      "saying VERB advcl\n",
      "the DET det\n",
      "Enterprise NOUN nsubj\n",
      "was AUX ccomp\n",
      "a DET det\n",
      "good ADJ amod\n",
      "ship NOUN attr\n",
      ". PUNCT punct\n",
      "\n",
      "\n",
      " SPACE dep\n",
      "Captain PROPN compound\n",
      "Picard PROPN poss\n",
      "'s PART case\n",
      "belief NOUN nsubjpass\n",
      "that SCONJ mark\n",
      "the DET det\n",
      "Enterprise NOUN compound\n",
      "- PUNCT punct\n",
      "D PROPN nsubj\n",
      "would AUX aux\n",
      "not PART neg\n",
      "be AUX acl\n",
      "the DET det\n",
      "final ADJ amod\n",
      "ship NOUN attr\n",
      "to PART aux\n",
      "bear VERB relcl\n",
      "the DET det\n",
      "name NOUN dobj\n",
      "was AUX auxpass\n",
      "borne VERB ROOT\n",
      "out ADP prt\n",
      "with ADP prep\n",
      "the DET det\n",
      "christening NOUN pobj\n",
      "of ADP prep\n",
      "the DET det\n",
      "Class PROPN compound\n",
      "Sovereign PROPN nmod\n",
      "USS PROPN compound\n",
      "Enterprise PROPN compound\n",
      "NCC-1701 PROPN compound\n",
      "- PUNCT punct\n",
      "E NOUN pobj\n",
      ", PUNCT punct\n",
      "later ADV advmod\n",
      "the DET det\n",
      "same ADJ amod\n",
      "year NOUN npadvmod\n",
      ". PUNCT punct\n",
      "In ADP prep\n",
      "that DET det\n",
      "instance NOUN pobj\n",
      ", PUNCT punct\n",
      "the DET det\n",
      "legacy NOUN nsubj\n",
      "of ADP prep\n",
      "the DET det\n",
      "Enterprise PROPN pobj\n",
      "continued VERB ROOT\n",
      "with ADP prep\n",
      "Picard PROPN pobj\n",
      "reprising VERB advcl\n",
      "his PRON poss\n",
      "role NOUN dobj\n",
      "as ADP prep\n",
      "CO PROPN pobj\n",
      "and CCONJ cc\n",
      "selecting VERB conj\n",
      "most ADJ dobj\n",
      "of ADP prep\n",
      "the DET det\n",
      "former ADJ amod\n",
      "crew NOUN pobj\n",
      "from ADP prep\n",
      "the DET det\n",
      "Enterprise PROPN compound\n",
      "- PUNCT punct\n",
      "D PROPN pobj\n",
      ", PUNCT punct\n",
      "with ADP prep\n",
      "the DET det\n",
      "notable ADJ amod\n",
      "exception NOUN pobj\n",
      "of ADP prep\n",
      "Worf PROPN pobj\n",
      "due ADP prep\n",
      "to ADP pcomp\n",
      "his PRON poss\n",
      "most ADV advmod\n",
      "recent ADJ amod\n",
      "assignment NOUN pobj\n",
      "to ADP prep\n",
      "DS9 PROPN pobj\n",
      "( PUNCT punct\n",
      "though SCONJ mark\n",
      "he PRON nsubj\n",
      "temporarily ADV advmod\n",
      "joined VERB advcl\n",
      "the DET det\n",
      "Enterprise NOUN compound\n",
      "- PUNCT punct\n",
      "E NOUN compound\n",
      "crew NOUN dobj\n",
      "on ADP prep\n",
      "several ADJ pobj\n",
      "of ADP prep\n",
      "their PRON poss\n",
      "more ADV advmod\n",
      "notable ADJ amod\n",
      "missions NOUN pobj\n",
      ") PUNCT punct\n",
      ". PUNCT punct\n"
     ]
    }
   ],
   "source": [
    "for token in doc:\n",
    "    print(token.text, token.pos_, token.dep_)"
   ]
  },
  {
   "cell_type": "markdown",
   "metadata": {
    "id": "z8--KeYzLNPW"
   },
   "source": [
    "## Tokenise"
   ]
  },
  {
   "cell_type": "code",
   "execution_count": 23,
   "metadata": {},
   "outputs": [
    {
     "name": "stdout",
     "output_type": "stream",
     "text": [
      "['USS', 'Enterprise', '(', 'NCC-1701', '-', 'D', ')', '\\n\\n', 'For', 'five', 'hundred', 'years', ',', 'every', 'ship', 'that', 'has', 'borne', 'the', 'name', 'of', 'the', 'Enterprise', 'has', 'become', 'a', 'legend', '.', 'This', 'one', 'is', 'no', 'different', '.', '\\n\\n', 'The', 'USS', 'Enterprise', '(', 'NCC-1701', '-', 'D', ')', 'was', 'a', '24th', 'century', 'United', 'Federation', 'of', 'Planets', 'Galaxy', 'Class', 'starship', 'operated', 'by', 'Starfleet', ',', 'and', 'the', 'fifth', 'Federation', 'ship', 'to', 'bear', 'the', 'name', 'Enterprise', '.', 'During', 'her', 'career', ',', 'the', 'Enterprise', 'served', 'as', 'the', 'Federation', 'flagship', '.', 'The', 'Enterprise', 'was', 'destroyed', 'during', 'the', 'Battle', 'of', 'Veridian', 'III', 'in', '2371', '.', '\\n\\n', '=', '=', 'History==', '\\n', '=', '=', '=', 'Construction', 'and', 'launch===', '\\n', 'The', 'Enterprise', 'was', 'built', 'at', 'Utopia', 'Planitia', 'Fleet', 'Yards', 'orbiting', 'Mars', 'in', 'the', 'Solar', 'system', '.', 'The', 'construction', 'was', 'a', 'massive', 'undertaking', ',', 'involving', 'thousands', 'of', 'people', 'across', 'disciplines', '.', 'Construction', 'was', 'supervised', 'by', 'Commander', 'Orfil', 'Quinteros', '.', 'Dr.', 'Leah', 'Brahms', 'was', 'responsible', 'for', 'much', 'of', 'the', 'Enterprise', \"'s\", 'warp', 'propulsion', 'system', 'design', '.', 'Some', 'of', 'the', 'Enterprise', \"'s\", 'components', 'were', 'derived', 'from', 'technology', 'originally', 'developed', 'on', 'the', 'USS', 'Pegasus', '.', '\\n\\n', 'One', 'of', 'the', 'ship', \"'s\", 'nacelle', 'tube', 'was', 'the', 'site', 'of', 'a', 'multiple', 'murder', '-', 'suicide', 'while', 'she', 'was', 'still', 'under', 'construction', 'at', 'Utopia', 'Planitia', '.', 'A', 'member', 'of', 'the', 'construction', 'team', ',', 'Walter', 'Pierce', ',', 'became', 'jealous', 'of', 'a', 'former', 'lover', \"'s\", 'new', 'relationship', '.', 'He', 'killed', 'the', 'two', 'officers', ',', 'Marla', 'Finn', 'and', 'William', 'Hodges', ',', 'then', 'disposed', 'of', 'their', 'bodies', 'in', 'the', 'plasma', 'stream', '.', 'Pierce', 'committed', 'suicide', 'in', 'the', 'same', 'manner', ',', 'leaving', 'a', 'telepathic', 'imprint', 'in', 'a', 'bulkhead', 'that', 'was', 'not', 'discovered', 'until', '2370', '.', '\\n\\n', 'On', 'stardate', '40759.5', ',', 'in', 'the', 'year', '2363', ',', 'the', 'Enterprise', 'was', 'launched', 'from', 'Mars', '.', 'On', 'stardate', '41025.5', ',', 'the', 'Enterprise', 'was', 'commissioned', '.', '\\n\\n', 'These', 'stardates', 'were', \"n't\", 'mentioned', 'in', 'dialog', ';', 'they', 'were', 'from', 'the', 'Enterprise', 'dedication', 'plaque', '.', '\\n\\n', 'Final', 'systems', 'completion', 'and', 'shakedown', 'was', 'conducted', 'at', 'Earth', 'Station', 'McKinley', '.', 'Captain', 'Jean', '-', 'Luc', 'Picard', 'took', 'command', 'of', 'the', 'ship', 'on', 'stardate', '41148', 'at', 'the', 'order', 'of', 'Rear', 'Admiral', 'Norah', 'Satie', '.', '\\n\\n', '=', '=', '=', 'Legacy===', '\\n', 'Commander', 'Riker', 'was', 'upset', 'over', 'the', 'loss', 'of', 'the', 'Enterprise', '.', 'Having', 'hoped', 'he', 'would', 'one', 'day', 'command', 'the', 'ship', ',', 'he', 'was', 'disappointed', 'that', 'he', 'never', 'got', 'that', 'opportunity', '.', 'However', ',', 'Picard', 'expressed', 'doubt', 'that', 'the', 'Enterprise', '-', 'D', 'would', 'be', 'the', 'last', 'vessel', 'to', 'carry', 'the', 'name', '.', '\\n\\n', 'The', 'Enterprise', 'was', 'so', 'dear', 'to', 'Worf', 'that', ',', 'shortly', 'after', 'being', 'reassigned', 'to', 'Deep', 'Space', '9', 'in', '2372', ',', 'he', 'briefly', 'considered', 'resigning', 'from', 'Starfleet', '.', 'Station', 'commander', 'Captain', 'Benjamin', 'Sisko', 'expressed', 'regret', 'on', 'the', 'loss', 'of', 'the', 'Enterprise', 'and', 'offered', 'his', 'condolences', 'over', 'the', 'destruction', 'of', 'the', 'ship', 'to', 'Worf', ',', 'saying', 'the', 'Enterprise', 'was', 'a', 'good', 'ship', '.', '\\n\\n', 'Captain', 'Picard', \"'s\", 'belief', 'that', 'the', 'Enterprise', '-', 'D', 'would', 'not', 'be', 'the', 'final', 'ship', 'to', 'bear', 'the', 'name', 'was', 'borne', 'out', 'with', 'the', 'christening', 'of', 'the', 'Class', 'Sovereign', 'USS', 'Enterprise', 'NCC-1701', '-', 'E', ',', 'later', 'the', 'same', 'year', '.', 'In', 'that', 'instance', ',', 'the', 'legacy', 'of', 'the', 'Enterprise', 'continued', 'with', 'Picard', 'reprising', 'his', 'role', 'as', 'CO', 'and', 'selecting', 'most', 'of', 'the', 'former', 'crew', 'from', 'the', 'Enterprise', '-', 'D', ',', 'with', 'the', 'notable', 'exception', 'of', 'Worf', 'due', 'to', 'his', 'most', 'recent', 'assignment', 'to', 'DS9', '(', 'though', 'he', 'temporarily', 'joined', 'the', 'Enterprise', '-', 'E', 'crew', 'on', 'several', 'of', 'their', 'more', 'notable', 'missions', ')', '.']\n",
      "['USS', 'Enterprise', '(', 'NCC-1701', '-', 'D', ')', '\\n\\n', 'For', 'five']\n"
     ]
    }
   ],
   "source": [
    "tokens = [token.text for token in doc]\n",
    "print(tokens)  # Display the list of tokens\n",
    "\n",
    "# Optionally, print the first 10 tokens\n",
    "print(tokens[:10])"
   ]
  },
  {
   "cell_type": "code",
   "execution_count": 23,
   "metadata": {
    "ExecuteTime": {
     "end_time": "2019-06-17T01:19:56.492190Z",
     "start_time": "2019-06-17T01:19:56.488201Z"
    },
    "id": "Gcg4Hkx4LNPh"
   },
   "outputs": [],
   "source": [
    "# ANSWER"
   ]
  },
  {
   "cell_type": "markdown",
   "metadata": {
    "id": "iAtMzEZTLNPj"
   },
   "source": [
    "### Stop Words"
   ]
  },
  {
   "cell_type": "code",
   "execution_count": 24,
   "metadata": {
    "ExecuteTime": {
     "end_time": "2019-06-17T01:24:08.828052Z",
     "start_time": "2019-06-17T01:24:08.777179Z"
    },
    "id": "zOzudmrILNPq",
    "outputId": "1e58fcfc-674d-42f1-e82a-63f7d61a837a"
   },
   "outputs": [
    {
     "name": "stdout",
     "output_type": "stream",
     "text": [
      "i | with stop words without\n",
      "--| --------------- ------------\n",
      " 1| 'USS'           'USS'\n",
      " 2| 'Enterprise'    'Enterprise'\n",
      " 3| '('             '('\n",
      " 4| 'NCC-1701'      'NCC-1701'\n",
      " 5| '-'             '-'\n",
      " 6| 'D'             'D'\n",
      " 7| ')'             ')'\n",
      " 8| '\\n\\n'          '\\n\\n'\n",
      " 9| 'For'           ''\n",
      "10| 'five'          ''\n",
      "11| 'hundred'       ''\n",
      "12| 'years'         'years'\n",
      "13| ','             ','\n",
      "14| 'every'         ''\n",
      "15| 'ship'          'ship'\n",
      "16| 'that'          ''\n",
      "17| 'has'           ''\n",
      "18| 'borne'         'borne'\n",
      "19| 'the'           ''\n",
      "20| 'name'          ''\n",
      "21| 'of'            ''\n",
      "22| 'the'           ''\n",
      "23| 'Enterprise'    'Enterprise'\n",
      "24| 'has'           ''\n",
      "25| 'become'        ''\n",
      "26| 'a'             ''\n",
      "27| 'legend'        'legend'\n",
      "28| '.'             '.'\n"
     ]
    }
   ],
   "source": [
    "## spaCy\n",
    "print('i | with stop words without')\n",
    "print('--| --------------- ------------')\n",
    "\n",
    "# for all the tokens\n",
    "for i, t in enumerate(doc):\n",
    "    print('%2d| %-15r %r' % (i+1, t.text, ('' if t.is_stop else t.text)))\n",
    "\n",
    "    # break after the first sentence\n",
    "    if t.text == '.':\n",
    "        break"
   ]
  },
  {
   "cell_type": "code",
   "execution_count": 25,
   "metadata": {
    "ExecuteTime": {
     "end_time": "2019-06-17T01:22:05.293365Z",
     "start_time": "2019-06-17T01:22:04.981199Z"
    },
    "id": "B2LoqLmULNPs",
    "outputId": "63f83744-f889-462f-f166-d8add6a03f7e"
   },
   "outputs": [
    {
     "data": {
      "image/png": "[encoded data removed]",
      "text/plain": [
       "<Figure size 1600x600 with 1 Axes>"
      ]
     },
     "metadata": {},
     "output_type": "display_data"
    }
   ],
   "source": [
    "plot_words(['%r' % t.text for t in doc if not (t.is_stop | t.is_punct)])"
   ]
  },
  {
   "cell_type": "markdown",
   "metadata": {
    "id": "9uqME12uLNPu"
   },
   "source": [
    "### Check Part of Speech"
   ]
  },
  {
   "cell_type": "code",
   "execution_count": 26,
   "metadata": {
    "ExecuteTime": {
     "end_time": "2019-06-17T01:22:17.213316Z",
     "start_time": "2019-06-17T01:22:17.169434Z"
    },
    "id": "vD-BrcLALNPz",
    "outputId": "a26b4e4f-095a-4086-a8fe-841cbbfb5b05"
   },
   "outputs": [
    {
     "name": "stdout",
     "output_type": "stream",
     "text": [
      " 1|'USS'        : PROPN NNP\n",
      " 2|'Enterprise' : PROPN NNP\n",
      " 3|'('          : PUNCT -LRB-\n",
      " 4|'NCC-1701'   : PROPN NNP\n",
      " 5|'-'          : PUNCT HYPH\n",
      " 6|'D'          : PROPN NNP\n",
      " 7|')'          : PUNCT -RRB-\n",
      " 8|'\\n\\n'       : SPACE _SP\n",
      " 9|'For'        : ADP   IN\n",
      "10|'five'       : NUM   CD\n",
      "11|'hundred'    : NUM   CD\n",
      "12|'years'      : NOUN  NNS\n",
      "13|','          : PUNCT ,\n",
      "14|'every'      : DET   DT\n",
      "15|'ship'       : NOUN  NN\n",
      "16|'that'       : PRON  WDT\n",
      "17|'has'        : AUX   VBZ\n",
      "18|'borne'      : VERB  VBN\n",
      "19|'the'        : DET   DT\n",
      "20|'name'       : NOUN  NN\n",
      "21|'of'         : ADP   IN\n",
      "22|'the'        : DET   DT\n",
      "23|'Enterprise' : PROPN NNP\n",
      "24|'has'        : AUX   VBZ\n",
      "25|'become'     : VERB  VBN\n",
      "26|'a'          : DET   DT\n",
      "27|'legend'     : NOUN  NN\n",
      "28|'.'          : PUNCT .\n"
     ]
    }
   ],
   "source": [
    "## spaCy\n",
    "for i, t in enumerate(doc):\n",
    "    print('%2d|%-12r : %-5s %s' % (i+1, t.text, t.pos_, t.tag_))\n",
    "    if t.text == '.':\n",
    "        break"
   ]
  },
  {
   "cell_type": "markdown",
   "metadata": {
    "id": "IvQ_UG7fUH3P"
   },
   "source": [
    "### Lemmatisation"
   ]
  },
  {
   "cell_type": "code",
   "execution_count": 27,
   "metadata": {
    "ExecuteTime": {
     "end_time": "2019-06-17T01:22:53.270758Z",
     "start_time": "2019-06-17T01:22:53.220888Z"
    },
    "id": "448zp9_vLNQC",
    "outputId": "561168c1-3a42-449d-9be3-dd22182459c3"
   },
   "outputs": [
    {
     "name": "stdout",
     "output_type": "stream",
     "text": [
      "i | Token        Lemma\n",
      "--| ------------ ------------\n",
      " 1| 'USS'        'USS'\n",
      " 2| 'Enterprise' 'Enterprise'\n",
      " 3| '('          '('\n",
      " 4| 'NCC-1701'   'NCC-1701'\n",
      " 5| '-'          '-'\n",
      " 6| 'D'          'D'\n",
      " 7| ')'          ')'\n",
      " 8| '\\n\\n'       '\\n\\n'\n",
      " 9| 'For'        'for'\n",
      "10| 'five'       'five'\n",
      "11| 'hundred'    'hundred'\n",
      "12| 'years'      'year'\n",
      "13| ','          ','\n",
      "14| 'every'      'every'\n",
      "15| 'ship'       'ship'\n",
      "16| 'that'       'that'\n",
      "17| 'has'        'have'\n",
      "18| 'borne'      'bear'\n",
      "19| 'the'        'the'\n",
      "20| 'name'       'name'\n",
      "21| 'of'         'of'\n",
      "22| 'the'        'the'\n",
      "23| 'Enterprise' 'Enterprise'\n",
      "24| 'has'        'have'\n",
      "25| 'become'     'become'\n",
      "26| 'a'          'a'\n",
      "27| 'legend'     'legend'\n",
      "28| '.'          '.'\n"
     ]
    }
   ],
   "source": [
    "## spaCy\n",
    "print('i | Token        Lemma')\n",
    "print('--| ------------ ------------')\n",
    "for i, t in enumerate(doc):\n",
    "    print('%2d| %-12r %r' % (i+1, t.text, t.lemma_))\n",
    "    if t.text == '.':\n",
    "        break"
   ]
  },
  {
   "cell_type": "code",
   "execution_count": 28,
   "metadata": {
    "ExecuteTime": {
     "end_time": "2019-06-17T01:22:56.143434Z",
     "start_time": "2019-06-17T01:22:55.839376Z"
    },
    "id": "i-7pqVMxLNQD",
    "outputId": "6deff35e-0d28-4351-bbab-7600618eb817"
   },
   "outputs": [
    {
     "data": {
      "image/png": "[encoded data removed]",
      "text/plain": [
       "<Figure size 1600x600 with 1 Axes>"
      ]
     },
     "metadata": {},
     "output_type": "display_data"
    }
   ],
   "source": [
    "plot_words(['%r' % t.lemma_ for t in doc if not (t.is_stop | t.is_punct)])"
   ]
  },
  {
   "cell_type": "markdown",
   "metadata": {
    "id": "RHUdgHM7LNQF"
   },
   "source": [
    "### Entity Recognition"
   ]
  },
  {
   "cell_type": "code",
   "execution_count": 29,
   "metadata": {
    "ExecuteTime": {
     "end_time": "2019-06-17T01:23:02.688863Z",
     "start_time": "2019-06-17T01:23:02.464460Z"
    },
    "id": "yyOrZ42oLNQH",
    "outputId": "dfcee498-0002-4064-98ca-fa11668978d5"
   },
   "outputs": [
    {
     "name": "stdout",
     "output_type": "stream",
     "text": [
      " 0: USS Enterprise (NCC-1701-D)For five hundred years, every ship that has borne the name of the Enterprise has become a legend.\n",
      "--------------------------------------------------------------------------------\n",
      "DATE       : five hundred years\n",
      "ORG        : Enterprise\n",
      "================================================================================\n",
      " 1: This one is no different.\n",
      "================================================================================\n",
      " 2: The USS Enterprise (NCC-1701-D) was a 24th century United Federation of Planets Galaxy Class starship operated by Starfleet, and the fifth Federation ship to bear the name Enterprise.\n",
      "--------------------------------------------------------------------------------\n",
      "ORG        : The USS Enterprise\n",
      "DATE       : a 24th century\n",
      "ORG        : United Federation of Planets Galaxy\n",
      "ORG        : Starfleet\n",
      "ORDINAL    : fifth\n",
      "================================================================================\n",
      " 3: During her career, the Enterprise served as the Federation flagship.\n",
      "--------------------------------------------------------------------------------\n",
      "ORG        : Enterprise\n",
      "ORG        : Federation\n",
      "================================================================================\n",
      " 4: The Enterprise was destroyed during the Battle of Veridian III in 2371.\n",
      "--------------------------------------------------------------------------------\n",
      "DATE       : 2371\n",
      "================================================================================\n",
      " 5: ==History=====Construction and launch===The Enterprise was built at Utopia Planitia Fleet Yards orbiting Mars in the Solar system.\n",
      "--------------------------------------------------------------------------------\n",
      "ORG        : Utopia Planitia Fleet Yards\n",
      "LOC        : Mars\n",
      "PRODUCT    : Solar\n",
      "================================================================================\n",
      " 6: The construction was a massive undertaking, involving thousands of people across disciplines.\n",
      "--------------------------------------------------------------------------------\n",
      "CARDINAL   : thousands\n",
      "================================================================================\n",
      " 7: Construction was supervised by Commander Orfil Quinteros.\n",
      "--------------------------------------------------------------------------------\n",
      "PERSON     : Orfil Quinteros\n",
      "================================================================================\n",
      " 8: Dr. Leah Brahms was responsible for much of the Enterprise's warp propulsion system design.\n",
      "--------------------------------------------------------------------------------\n",
      "PERSON     : Leah Brahms\n",
      "================================================================================\n",
      " 9: Some of the Enterprise's components were derived from technology originally developed on the USS Pegasus.\n",
      "--------------------------------------------------------------------------------\n",
      "PRODUCT    : the USS Pegasus\n",
      "================================================================================\n",
      "10: One of the ship's nacelle tube was the site of a multiple murder-suicide while she was still under construction at Utopia Planitia.\n",
      "--------------------------------------------------------------------------------\n",
      "CARDINAL   : One\n",
      "FAC        : Utopia Planitia\n",
      "================================================================================\n",
      "11: A member of the construction team, Walter Pierce, became jealous of a former lover's new relationship.\n",
      "--------------------------------------------------------------------------------\n",
      "PERSON     : Walter Pierce\n",
      "ORG        : lover\n",
      "================================================================================\n",
      "12: He killed the two officers, Marla Finn and William Hodges, then disposed of their bodies in the plasma stream.\n",
      "--------------------------------------------------------------------------------\n",
      "CARDINAL   : two\n",
      "PERSON     : Marla Finn\n",
      "PERSON     : William Hodges\n",
      "================================================================================\n",
      "13: Pierce committed suicide in the same manner, leaving a telepathic imprint in a bulkhead that was not discovered until 2370.\n",
      "--------------------------------------------------------------------------------\n",
      "DATE       : 2370\n",
      "================================================================================\n",
      "14: On stardate 40759.5, in the year 2363, the Enterprise was launched from Mars.\n",
      "--------------------------------------------------------------------------------\n",
      "CARDINAL   : 40759.5\n",
      "DATE       : the year 2363\n",
      "ORG        : Enterprise\n",
      "LOC        : Mars\n",
      "================================================================================\n",
      "15: On stardate 41025.5, the Enterprise was commissioned.\n",
      "--------------------------------------------------------------------------------\n",
      "CARDINAL   : 41025.5\n",
      "ORG        : Enterprise\n",
      "================================================================================\n",
      "16: These stardates weren't mentioned in dialog; they were from the Enterprise dedication plaque.\n",
      "================================================================================\n",
      "17: Final systems completion and shakedown was conducted at Earth Station McKinley.\n",
      "--------------------------------------------------------------------------------\n",
      "LOC        : Earth Station\n",
      "================================================================================\n",
      "18: Captain Jean-Luc Picard took command of the ship on stardate 41148 at the order of Rear Admiral Norah Satie.===Legacy===Commander Riker was upset over the loss of the Enterprise.\n",
      "--------------------------------------------------------------------------------\n",
      "PERSON     : Jean-Luc Picard\n",
      "DATE       : 41148\n",
      "ORG        : Rear Admiral Norah Satie\n",
      "PERSON     : Legacy===\n",
      "PERSON     : Riker\n",
      "================================================================================\n",
      "19: Having hoped he would one day command the ship, he was disappointed that he never got that opportunity.\n",
      "--------------------------------------------------------------------------------\n",
      "CARDINAL   : one\n",
      "================================================================================\n",
      "20: However, Picard expressed doubt that the Enterprise-D would be the last vessel to carry the name.\n",
      "================================================================================\n",
      "21: The Enterprise was so dear to Worf that, shortly after being reassigned to Deep Space 9 in 2372, he briefly considered resigning from Starfleet.\n",
      "--------------------------------------------------------------------------------\n",
      "FAC        : Deep Space\n",
      "CARDINAL   : 9\n",
      "DATE       : 2372\n",
      "GPE        : Starfleet\n",
      "================================================================================\n",
      "22: Station commander Captain Benjamin Sisko expressed regret on the loss of the Enterprise and offered his condolences over the destruction of the ship to Worf, saying the Enterprise was a good ship.\n",
      "--------------------------------------------------------------------------------\n",
      "PERSON     : Benjamin Sisko\n",
      "ORG        : Enterprise\n",
      "PERSON     : Worf\n",
      "================================================================================\n",
      "23: Captain Picard's belief that the Enterprise-D would not be the final ship to bear the name was borne out with the christening of the Class Sovereign USS Enterprise NCC-1701-E, later the same year.\n",
      "--------------------------------------------------------------------------------\n",
      "DATE       : later the same year\n",
      "================================================================================\n",
      "24: In that instance, the legacy of the Enterprise continued with Picard reprising his role as CO and selecting most of the former crew from the Enterprise-D, with the notable exception of Worf due to his most recent assignment to DS9 (though he temporarily joined the Enterprise-E crew on several of their more notable missions).\n",
      "--------------------------------------------------------------------------------\n",
      "ORG        : Enterprise\n",
      "ORG        : CO\n",
      "================================================================================\n"
     ]
    }
   ],
   "source": [
    "## spaCy\n",
    "for i, s in enumerate(doc.sents):\n",
    "    print('%2d: %s' % (i, re.sub(r'\\n+', '', s.text)))\n",
    "    if s.as_doc().ents:\n",
    "        print('-'*80)\n",
    "        for e in s.as_doc().ents:\n",
    "            print('%-11s: %s' % (e.label_, re.sub(r'\\n+', '', e.text)))\n",
    "    print('='*80)"
   ]
  },
  {
   "cell_type": "markdown",
   "metadata": {
    "id": "YSNoDKpMUH3S"
   },
   "source": [
    "## Extra: Using NLTK for NLP\n",
    "\n",
    "### Tokenise"
   ]
  },
  {
   "cell_type": "code",
   "execution_count": 30,
   "metadata": {
    "ExecuteTime": {
     "end_time": "2019-06-17T01:18:26.276966Z",
     "start_time": "2019-06-17T01:18:26.186212Z"
    },
    "id": "pML63M9KLNPX",
    "outputId": "29a6c627-0eee-4ece-bb34-47eacbbb53ff",
    "scrolled": true
   },
   "outputs": [
    {
     "ename": "LookupError",
     "evalue": "\n**********************************************************************\n  Resource \u001b[93mpunkt_tab\u001b[0m not found.\n  Please use the NLTK Downloader to obtain the resource:\n\n  \u001b[31m>>> import nltk\n  >>> nltk.download('punkt_tab')\n  \u001b[0m\n  For more information see: https://www.nltk.org/data.html\n\n  Attempted to load \u001b[93mtokenizers/punkt_tab/english/\u001b[0m\n\n  Searched in:\n    - 'C:\\\\Users\\\\gillb/nltk_data'\n    - 'C:\\\\Users\\\\gillb\\\\anaconda3\\\\envs\\\\iod\\\\nltk_data'\n    - 'C:\\\\Users\\\\gillb\\\\anaconda3\\\\envs\\\\iod\\\\share\\\\nltk_data'\n    - 'C:\\\\Users\\\\gillb\\\\anaconda3\\\\envs\\\\iod\\\\lib\\\\nltk_data'\n    - 'C:\\\\Users\\\\gillb\\\\AppData\\\\Roaming\\\\nltk_data'\n    - 'C:\\\\nltk_data'\n    - 'D:\\\\nltk_data'\n    - 'E:\\\\nltk_data'\n    - '/custom/nltk_data/'\n    - '/custom/nltk_data/'\n    - '/custom/nltk_data/'\n**********************************************************************\n",
     "output_type": "error",
     "traceback": [
      "\u001b[1;31m---------------------------------------------------------------------------\u001b[0m",
      "\u001b[1;31mLookupError\u001b[0m                               Traceback (most recent call last)",
      "Cell \u001b[1;32mIn[30], line 2\u001b[0m\n\u001b[0;32m      1\u001b[0m \u001b[38;5;66;03m# use nltk to find tokens\u001b[39;00m\n\u001b[1;32m----> 2\u001b[0m tokens \u001b[38;5;241m=\u001b[39m \u001b[43mnltk\u001b[49m\u001b[38;5;241;43m.\u001b[39;49m\u001b[43mword_tokenize\u001b[49m\u001b[43m(\u001b[49m\u001b[43mtext\u001b[49m\u001b[43m)\u001b[49m\n\u001b[0;32m      4\u001b[0m \u001b[38;5;28;01mfor\u001b[39;00m i, t \u001b[38;5;129;01min\u001b[39;00m \u001b[38;5;28menumerate\u001b[39m(tokens[:\u001b[38;5;241m25\u001b[39m]):\n\u001b[0;32m      5\u001b[0m     \u001b[38;5;28mprint\u001b[39m(\u001b[38;5;124m'\u001b[39m\u001b[38;5;132;01m%2d\u001b[39;00m\u001b[38;5;124m| \u001b[39m\u001b[38;5;132;01m%r\u001b[39;00m\u001b[38;5;124m'\u001b[39m \u001b[38;5;241m%\u001b[39m (i\u001b[38;5;241m+\u001b[39m\u001b[38;5;241m1\u001b[39m, t))\n",
      "File \u001b[1;32m~\\anaconda3\\envs\\iod\\lib\\site-packages\\nltk\\tokenize\\__init__.py:142\u001b[0m, in \u001b[0;36mword_tokenize\u001b[1;34m(text, language, preserve_line)\u001b[0m\n\u001b[0;32m    127\u001b[0m \u001b[38;5;28;01mdef\u001b[39;00m \u001b[38;5;21mword_tokenize\u001b[39m(text, language\u001b[38;5;241m=\u001b[39m\u001b[38;5;124m\"\u001b[39m\u001b[38;5;124menglish\u001b[39m\u001b[38;5;124m\"\u001b[39m, preserve_line\u001b[38;5;241m=\u001b[39m\u001b[38;5;28;01mFalse\u001b[39;00m):\n\u001b[0;32m    128\u001b[0m \u001b[38;5;250m    \u001b[39m\u001b[38;5;124;03m\"\"\"\u001b[39;00m\n\u001b[0;32m    129\u001b[0m \u001b[38;5;124;03m    Return a tokenized copy of *text*,\u001b[39;00m\n\u001b[0;32m    130\u001b[0m \u001b[38;5;124;03m    using NLTK's recommended word tokenizer\u001b[39;00m\n\u001b[1;32m   (...)\u001b[0m\n\u001b[0;32m    140\u001b[0m \u001b[38;5;124;03m    :type preserve_line: bool\u001b[39;00m\n\u001b[0;32m    141\u001b[0m \u001b[38;5;124;03m    \"\"\"\u001b[39;00m\n\u001b[1;32m--> 142\u001b[0m     sentences \u001b[38;5;241m=\u001b[39m [text] \u001b[38;5;28;01mif\u001b[39;00m preserve_line \u001b[38;5;28;01melse\u001b[39;00m \u001b[43msent_tokenize\u001b[49m\u001b[43m(\u001b[49m\u001b[43mtext\u001b[49m\u001b[43m,\u001b[49m\u001b[43m \u001b[49m\u001b[43mlanguage\u001b[49m\u001b[43m)\u001b[49m\n\u001b[0;32m    143\u001b[0m     \u001b[38;5;28;01mreturn\u001b[39;00m [\n\u001b[0;32m    144\u001b[0m         token \u001b[38;5;28;01mfor\u001b[39;00m sent \u001b[38;5;129;01min\u001b[39;00m sentences \u001b[38;5;28;01mfor\u001b[39;00m token \u001b[38;5;129;01min\u001b[39;00m _treebank_word_tokenizer\u001b[38;5;241m.\u001b[39mtokenize(sent)\n\u001b[0;32m    145\u001b[0m     ]\n",
      "File \u001b[1;32m~\\anaconda3\\envs\\iod\\lib\\site-packages\\nltk\\tokenize\\__init__.py:119\u001b[0m, in \u001b[0;36msent_tokenize\u001b[1;34m(text, language)\u001b[0m\n\u001b[0;32m    109\u001b[0m \u001b[38;5;28;01mdef\u001b[39;00m \u001b[38;5;21msent_tokenize\u001b[39m(text, language\u001b[38;5;241m=\u001b[39m\u001b[38;5;124m\"\u001b[39m\u001b[38;5;124menglish\u001b[39m\u001b[38;5;124m\"\u001b[39m):\n\u001b[0;32m    110\u001b[0m \u001b[38;5;250m    \u001b[39m\u001b[38;5;124;03m\"\"\"\u001b[39;00m\n\u001b[0;32m    111\u001b[0m \u001b[38;5;124;03m    Return a sentence-tokenized copy of *text*,\u001b[39;00m\n\u001b[0;32m    112\u001b[0m \u001b[38;5;124;03m    using NLTK's recommended sentence tokenizer\u001b[39;00m\n\u001b[1;32m   (...)\u001b[0m\n\u001b[0;32m    117\u001b[0m \u001b[38;5;124;03m    :param language: the model name in the Punkt corpus\u001b[39;00m\n\u001b[0;32m    118\u001b[0m \u001b[38;5;124;03m    \"\"\"\u001b[39;00m\n\u001b[1;32m--> 119\u001b[0m     tokenizer \u001b[38;5;241m=\u001b[39m \u001b[43m_get_punkt_tokenizer\u001b[49m\u001b[43m(\u001b[49m\u001b[43mlanguage\u001b[49m\u001b[43m)\u001b[49m\n\u001b[0;32m    120\u001b[0m     \u001b[38;5;28;01mreturn\u001b[39;00m tokenizer\u001b[38;5;241m.\u001b[39mtokenize(text)\n",
      "File \u001b[1;32m~\\anaconda3\\envs\\iod\\lib\\site-packages\\nltk\\tokenize\\__init__.py:105\u001b[0m, in \u001b[0;36m_get_punkt_tokenizer\u001b[1;34m(language)\u001b[0m\n\u001b[0;32m     96\u001b[0m \u001b[38;5;129m@functools\u001b[39m\u001b[38;5;241m.\u001b[39mlru_cache\n\u001b[0;32m     97\u001b[0m \u001b[38;5;28;01mdef\u001b[39;00m \u001b[38;5;21m_get_punkt_tokenizer\u001b[39m(language\u001b[38;5;241m=\u001b[39m\u001b[38;5;124m\"\u001b[39m\u001b[38;5;124menglish\u001b[39m\u001b[38;5;124m\"\u001b[39m):\n\u001b[0;32m     98\u001b[0m \u001b[38;5;250m    \u001b[39m\u001b[38;5;124;03m\"\"\"\u001b[39;00m\n\u001b[0;32m     99\u001b[0m \u001b[38;5;124;03m    A constructor for the PunktTokenizer that utilizes\u001b[39;00m\n\u001b[0;32m    100\u001b[0m \u001b[38;5;124;03m    a lru cache for performance.\u001b[39;00m\n\u001b[1;32m   (...)\u001b[0m\n\u001b[0;32m    103\u001b[0m \u001b[38;5;124;03m    :type language: str\u001b[39;00m\n\u001b[0;32m    104\u001b[0m \u001b[38;5;124;03m    \"\"\"\u001b[39;00m\n\u001b[1;32m--> 105\u001b[0m     \u001b[38;5;28;01mreturn\u001b[39;00m \u001b[43mPunktTokenizer\u001b[49m\u001b[43m(\u001b[49m\u001b[43mlanguage\u001b[49m\u001b[43m)\u001b[49m\n",
      "File \u001b[1;32m~\\anaconda3\\envs\\iod\\lib\\site-packages\\nltk\\tokenize\\punkt.py:1744\u001b[0m, in \u001b[0;36mPunktTokenizer.__init__\u001b[1;34m(self, lang)\u001b[0m\n\u001b[0;32m   1742\u001b[0m \u001b[38;5;28;01mdef\u001b[39;00m \u001b[38;5;21m__init__\u001b[39m(\u001b[38;5;28mself\u001b[39m, lang\u001b[38;5;241m=\u001b[39m\u001b[38;5;124m\"\u001b[39m\u001b[38;5;124menglish\u001b[39m\u001b[38;5;124m\"\u001b[39m):\n\u001b[0;32m   1743\u001b[0m     PunktSentenceTokenizer\u001b[38;5;241m.\u001b[39m\u001b[38;5;21m__init__\u001b[39m(\u001b[38;5;28mself\u001b[39m)\n\u001b[1;32m-> 1744\u001b[0m     \u001b[38;5;28;43mself\u001b[39;49m\u001b[38;5;241;43m.\u001b[39;49m\u001b[43mload_lang\u001b[49m\u001b[43m(\u001b[49m\u001b[43mlang\u001b[49m\u001b[43m)\u001b[49m\n",
      "File \u001b[1;32m~\\anaconda3\\envs\\iod\\lib\\site-packages\\nltk\\tokenize\\punkt.py:1749\u001b[0m, in \u001b[0;36mPunktTokenizer.load_lang\u001b[1;34m(self, lang)\u001b[0m\n\u001b[0;32m   1746\u001b[0m \u001b[38;5;28;01mdef\u001b[39;00m \u001b[38;5;21mload_lang\u001b[39m(\u001b[38;5;28mself\u001b[39m, lang\u001b[38;5;241m=\u001b[39m\u001b[38;5;124m\"\u001b[39m\u001b[38;5;124menglish\u001b[39m\u001b[38;5;124m\"\u001b[39m):\n\u001b[0;32m   1747\u001b[0m     \u001b[38;5;28;01mfrom\u001b[39;00m \u001b[38;5;21;01mnltk\u001b[39;00m\u001b[38;5;21;01m.\u001b[39;00m\u001b[38;5;21;01mdata\u001b[39;00m \u001b[38;5;28;01mimport\u001b[39;00m find\n\u001b[1;32m-> 1749\u001b[0m     lang_dir \u001b[38;5;241m=\u001b[39m \u001b[43mfind\u001b[49m\u001b[43m(\u001b[49m\u001b[38;5;124;43mf\u001b[39;49m\u001b[38;5;124;43m\"\u001b[39;49m\u001b[38;5;124;43mtokenizers/punkt_tab/\u001b[39;49m\u001b[38;5;132;43;01m{\u001b[39;49;00m\u001b[43mlang\u001b[49m\u001b[38;5;132;43;01m}\u001b[39;49;00m\u001b[38;5;124;43m/\u001b[39;49m\u001b[38;5;124;43m\"\u001b[39;49m\u001b[43m)\u001b[49m\n\u001b[0;32m   1750\u001b[0m     \u001b[38;5;28mself\u001b[39m\u001b[38;5;241m.\u001b[39m_params \u001b[38;5;241m=\u001b[39m load_punkt_params(lang_dir)\n\u001b[0;32m   1751\u001b[0m     \u001b[38;5;28mself\u001b[39m\u001b[38;5;241m.\u001b[39m_lang \u001b[38;5;241m=\u001b[39m lang\n",
      "File \u001b[1;32m~\\anaconda3\\envs\\iod\\lib\\site-packages\\nltk\\data.py:579\u001b[0m, in \u001b[0;36mfind\u001b[1;34m(resource_name, paths)\u001b[0m\n\u001b[0;32m    577\u001b[0m sep \u001b[38;5;241m=\u001b[39m \u001b[38;5;124m\"\u001b[39m\u001b[38;5;124m*\u001b[39m\u001b[38;5;124m\"\u001b[39m \u001b[38;5;241m*\u001b[39m \u001b[38;5;241m70\u001b[39m\n\u001b[0;32m    578\u001b[0m resource_not_found \u001b[38;5;241m=\u001b[39m \u001b[38;5;124mf\u001b[39m\u001b[38;5;124m\"\u001b[39m\u001b[38;5;130;01m\\n\u001b[39;00m\u001b[38;5;132;01m{\u001b[39;00msep\u001b[38;5;132;01m}\u001b[39;00m\u001b[38;5;130;01m\\n\u001b[39;00m\u001b[38;5;132;01m{\u001b[39;00mmsg\u001b[38;5;132;01m}\u001b[39;00m\u001b[38;5;130;01m\\n\u001b[39;00m\u001b[38;5;132;01m{\u001b[39;00msep\u001b[38;5;132;01m}\u001b[39;00m\u001b[38;5;130;01m\\n\u001b[39;00m\u001b[38;5;124m\"\u001b[39m\n\u001b[1;32m--> 579\u001b[0m \u001b[38;5;28;01mraise\u001b[39;00m \u001b[38;5;167;01mLookupError\u001b[39;00m(resource_not_found)\n",
      "\u001b[1;31mLookupError\u001b[0m: \n**********************************************************************\n  Resource \u001b[93mpunkt_tab\u001b[0m not found.\n  Please use the NLTK Downloader to obtain the resource:\n\n  \u001b[31m>>> import nltk\n  >>> nltk.download('punkt_tab')\n  \u001b[0m\n  For more information see: https://www.nltk.org/data.html\n\n  Attempted to load \u001b[93mtokenizers/punkt_tab/english/\u001b[0m\n\n  Searched in:\n    - 'C:\\\\Users\\\\gillb/nltk_data'\n    - 'C:\\\\Users\\\\gillb\\\\anaconda3\\\\envs\\\\iod\\\\nltk_data'\n    - 'C:\\\\Users\\\\gillb\\\\anaconda3\\\\envs\\\\iod\\\\share\\\\nltk_data'\n    - 'C:\\\\Users\\\\gillb\\\\anaconda3\\\\envs\\\\iod\\\\lib\\\\nltk_data'\n    - 'C:\\\\Users\\\\gillb\\\\AppData\\\\Roaming\\\\nltk_data'\n    - 'C:\\\\nltk_data'\n    - 'D:\\\\nltk_data'\n    - 'E:\\\\nltk_data'\n    - '/custom/nltk_data/'\n    - '/custom/nltk_data/'\n    - '/custom/nltk_data/'\n**********************************************************************\n"
     ]
    }
   ],
   "source": [
    "# use nltk to find tokens\n",
    "tokens = nltk.word_tokenize(text)\n",
    "\n",
    "for i, t in enumerate(tokens[:25]):\n",
    "    print('%2d| %r' % (i+1, t))"
   ]
  },
  {
   "cell_type": "code",
   "execution_count": null,
   "metadata": {
    "ExecuteTime": {
     "end_time": "2019-06-17T01:18:48.978316Z",
     "start_time": "2019-06-17T01:18:48.686799Z"
    },
    "id": "G5C3ituYLNPZ",
    "outputId": "db39aade-f506-4b45-ed1e-56327c19e4f7"
   },
   "outputs": [
    {
     "data": {
      "image/png": "[encoded data removed]",
      "text/plain": [
       "<matplotlib.figure.Figure at 0x1edc8c9ac18>"
      ]
     },
     "metadata": {
      "needs_background": "light",
      "tags": []
     },
     "output_type": "display_data"
    }
   ],
   "source": [
    "plot_words(tokens)"
   ]
  },
  {
   "cell_type": "markdown",
   "metadata": {
    "id": "pUFtNsjhUH3T"
   },
   "source": [
    "### Stop words"
   ]
  },
  {
   "cell_type": "code",
   "execution_count": null,
   "metadata": {
    "ExecuteTime": {
     "end_time": "2019-06-17T01:20:00.638483Z",
     "start_time": "2019-06-17T01:20:00.617539Z"
    },
    "id": "BnY2rFzuLNPj",
    "outputId": "f64087cd-8e4b-4df5-fb2d-7b04851bde34",
    "scrolled": true
   },
   "outputs": [
    {
     "name": "stdout",
     "output_type": "stream",
     "text": [
      "a, about, above, after, again, against, ain, all, am, an, and, any, are, aren, aren't, as, at, be, because, been, before, being, below, between, both, but, by, can, couldn, couldn't, d, did, didn, didn't, do, does, doesn, doesn't, doing, don, don't, down, during, each, few, for, from, further, had, hadn, hadn't, has, hasn, hasn't, have, haven, haven't, having, he, her, here, hers, herself, him, himself, his, how, i, if, in, into, is, isn, isn't, it, it's, its, itself, just, ll, m, ma, me, mightn, mightn't, more, most, mustn, mustn't, my, myself, needn, needn't, no, nor, not, now, o, of, off, on, once, only, or, other, our, ours, ourselves, out, over, own, re, s, same, shan, shan't, she, she's, should, should've, shouldn, shouldn't, so, some, such, t, than, that, that'll, the, their, theirs, them, themselves, then, there, these, they, this, those, through, to, too, under, until, up, ve, very, was, wasn, wasn't, we, were, weren, weren't, what, when, where, which, while, who, whom, why, will, with, won, won't, wouldn, wouldn't, y, you, you'd, you'll, you're, you've, your, yours, yourself, yourselves\n"
     ]
    }
   ],
   "source": [
    "stopWords = nltk.corpus.stopwords.words('english')\n",
    "\n",
    "stopWords.sort()\n",
    "print(', '.join(stopWords))"
   ]
  },
  {
   "cell_type": "code",
   "execution_count": null,
   "metadata": {
    "id": "dksPJF7YcI1o"
   },
   "outputs": [],
   "source": [
    "# ANSWER\n",
    "# NOTE: see the `.lower()` method applied to token\n",
    "tokens_no_stop = '' # create a list of tokens withOUT the stop words"
   ]
  },
  {
   "cell_type": "code",
   "execution_count": null,
   "metadata": {
    "ExecuteTime": {
     "end_time": "2019-06-17T01:21:23.469455Z",
     "start_time": "2019-06-17T01:21:23.412608Z"
    },
    "id": "a82KBILRLNPm",
    "outputId": "b33cef88-79ab-4e06-9c0e-9f2a4a588306"
   },
   "outputs": [
    {
     "name": "stdout",
     "output_type": "stream",
     "text": [
      "i | with stop words without\n",
      "--| --------------- ------------\n",
      " 1| 'USS'           'USS'\n",
      " 2| 'Enterprise'    'Enterprise'\n",
      " 3| '('             '('\n",
      " 4| 'NCC-1701-D'    'NCC-1701-D'\n",
      " 5| ')'             ')'\n",
      " 6| 'For'          \n",
      " 7| 'five'          'five'\n",
      " 8| 'hundred'       'hundred'\n",
      " 9| 'years'         'years'\n",
      "10| ','             ','\n",
      "11| 'every'         'every'\n",
      "12| 'ship'          'ship'\n",
      "13| 'that'         \n",
      "14| 'has'          \n",
      "15| 'borne'         'borne'\n",
      "16| 'the'          \n",
      "17| 'name'          'name'\n",
      "18| 'of'           \n",
      "19| 'the'          \n",
      "20| 'Enterprise'    'Enterprise'\n",
      "21| 'has'          \n",
      "22| 'become'        'become'\n",
      "23| 'a'            \n",
      "24| 'legend'        'legend'\n",
      "25| '.'             '.'\n"
     ]
    }
   ],
   "source": [
    "## NLTK\n",
    "i = 0\n",
    "j = 0\n",
    "\n",
    "print('i | with stop words without')\n",
    "print('--| --------------- ------------')\n",
    "\n",
    "# for all the tokens\n",
    "while i < len(tokens):\n",
    "    # same word\n",
    "    if tokens[i] == tokens_no_stop[j]:\n",
    "        print('%2d| %-15r %r' % (i+1, tokens[i], tokens_no_stop[j]))\n",
    "        j += 1\n",
    "    # not the same word\n",
    "    else:\n",
    "        print('%2d| %-15r' % (i+1, tokens[i]))\n",
    "\n",
    "    # next word\n",
    "    i += 1\n",
    "    # break after the first sentence\n",
    "    if tokens[i-1] == '.':\n",
    "        break"
   ]
  },
  {
   "cell_type": "code",
   "execution_count": null,
   "metadata": {
    "ExecuteTime": {
     "end_time": "2019-06-17T01:24:39.503538Z",
     "start_time": "2019-06-17T01:24:39.498514Z"
    },
    "id": "uPtOoiwuLNPo"
   },
   "outputs": [],
   "source": [
    "# Create plot of words without stopword\n",
    "# ANSWER"
   ]
  },
  {
   "cell_type": "markdown",
   "metadata": {
    "id": "newokHfzUH3V"
   },
   "source": [
    "### Check Part of Speech"
   ]
  },
  {
   "cell_type": "code",
   "execution_count": null,
   "metadata": {
    "ExecuteTime": {
     "end_time": "2019-06-17T01:22:10.130223Z",
     "start_time": "2019-06-17T01:22:10.100306Z"
    },
    "id": "KRupju0sLNPv"
   },
   "outputs": [],
   "source": [
    "# define PoS\n",
    "pos_list = {\n",
    "    'CC':   'coordinating conjunction',\n",
    "    'CD':   'cardinal digit',\n",
    "    'DT':   'determiner',\n",
    "    'EX':   'existential there (like: \"there is\" ... think of it like \"there exists\")',\n",
    "    'FW':   'foreign word',\n",
    "    'IN':   'preposition/subordinating conjunction',\n",
    "    'JJ':   'adjective \"big\"',\n",
    "    'JJR':  'adjective, comparative \"bigger\"',\n",
    "    'JJS':  'adjective, superlative \"biggest\"',\n",
    "    'LS':   'list marker 1)',\n",
    "    'MD':   'modal could, will',\n",
    "    'NN':   'noun, singular \"desk\"',\n",
    "    'NNS':  'noun plural \"desks\"',\n",
    "    'NNP':  'proper noun, singular \"Harrison\"',\n",
    "    'NNPS': 'proper noun, plural \"Americans\"',\n",
    "    'PDT':  'predeterminer \"all the kids\"',\n",
    "    'POS':  'possessive ending parent\"s',\n",
    "    'PRP':  'personal pronoun I, he, she',\n",
    "    'PRP$': 'possessive pronoun my, his, hers',\n",
    "    'RB':   'adverb very, silently,',\n",
    "    'RBR':  'adverb, comparative better',\n",
    "    'RBS':  'adverb, superlative best',\n",
    "    'RP':   'particle give up',\n",
    "    'TO':   'to go \"to\" the store.',\n",
    "    'UH':   'interjection errrrrrrrm',\n",
    "    'VB':   'verb, base form take',\n",
    "    'VBD':  'verb, past tense took',\n",
    "    'VBG':  'verb, gerund/present participle taking',\n",
    "    'VBN':  'verb, past participle taken',\n",
    "    'VBP':  'verb, sing. present, non-3d take',\n",
    "    'VBZ':  'verb, 3rd person sing. present takes',\n",
    "    'WDT':  'wh-determiner which',\n",
    "    'WP':   'wh-pronoun who, what',\n",
    "    'WP$':  'possessive wh-pronoun whose',\n",
    "    'WRB':  'wh-abverb where, when',\n",
    "}"
   ]
  },
  {
   "cell_type": "code",
   "execution_count": null,
   "metadata": {
    "ExecuteTime": {
     "end_time": "2019-06-17T01:22:13.969590Z",
     "start_time": "2019-06-17T01:22:13.665232Z"
    },
    "id": "asqUoCHgLNPx",
    "outputId": "6e3cab17-f736-49f3-ce62-8e759d72ac35"
   },
   "outputs": [
    {
     "name": "stdout",
     "output_type": "stream",
     "text": [
      " 1|'USS'        : NNP  proper noun, singular \"Harrison\"\n",
      " 2|'Enterprise' : NNP  proper noun, singular \"Harrison\"\n",
      " 3|'('          : (    -\n",
      " 4|'NCC-1701-D' : NNP  proper noun, singular \"Harrison\"\n",
      " 5|')'          : )    -\n",
      " 6|'For'        : IN   preposition/subordinating conjunction\n",
      " 7|'five'       : CD   cardinal digit\n",
      " 8|'hundred'    : CD   cardinal digit\n",
      " 9|'years'      : NNS  noun plural \"desks\"\n",
      "10|','          : ,    -\n",
      "11|'every'      : DT   determiner\n",
      "12|'ship'       : NN   noun, singular \"desk\"\n",
      "13|'that'       : WDT  wh-determiner which\n",
      "14|'has'        : VBZ  verb, 3rd person sing. present takes\n",
      "15|'borne'      : VBN  verb, past participle taken\n",
      "16|'the'        : DT   determiner\n",
      "17|'name'       : NN   noun, singular \"desk\"\n",
      "18|'of'         : IN   preposition/subordinating conjunction\n",
      "19|'the'        : DT   determiner\n",
      "20|'Enterprise' : NNP  proper noun, singular \"Harrison\"\n",
      "21|'has'        : VBZ  verb, 3rd person sing. present takes\n",
      "22|'become'     : VBN  verb, past participle taken\n",
      "23|'a'          : DT   determiner\n",
      "24|'legend'     : NN   noun, singular \"desk\"\n",
      "25|'.'          : .    -\n"
     ]
    }
   ],
   "source": [
    "## nltk\n",
    "tagged = nltk.pos_tag(tokens)\n",
    "\n",
    "for i, t in enumerate(tagged[:25]):\n",
    "    print('%2d|%-12r : %-4s %s' % (i+1, t[0], t[1], (pos_list[t[1]] if t[1] in pos_list else '-')))"
   ]
  },
  {
   "cell_type": "markdown",
   "metadata": {
    "id": "_n9qMgyULNP1"
   },
   "source": [
    "### Stemming"
   ]
  },
  {
   "cell_type": "code",
   "execution_count": null,
   "metadata": {
    "ExecuteTime": {
     "end_time": "2019-06-17T01:22:29.259531Z",
     "start_time": "2019-06-17T01:22:29.243588Z"
    },
    "id": "pL1vRUzxLNP2"
   },
   "outputs": [],
   "source": [
    "## nltk\n",
    "ps = nltk.porter.PorterStemmer()\n",
    "stemmed = ' '.join([ps.stem(word) for word in text.split()])"
   ]
  },
  {
   "cell_type": "markdown",
   "metadata": {
    "id": "2d9a6QazLNP4"
   },
   "source": [
    "### Lemmatisation"
   ]
  },
  {
   "cell_type": "code",
   "execution_count": null,
   "metadata": {
    "ExecuteTime": {
     "end_time": "2019-06-17T01:22:33.219077Z",
     "start_time": "2019-06-17T01:22:31.251647Z"
    },
    "id": "OAbriUsXLNP7",
    "scrolled": true
   },
   "outputs": [],
   "source": [
    "## nltk\n",
    "wl = nltk.stem.WordNetLemmatizer()\n",
    "lemma = ' '.join([wl.lemmatize(word) for word in text.split()])"
   ]
  },
  {
   "cell_type": "code",
   "execution_count": null,
   "metadata": {
    "ExecuteTime": {
     "end_time": "2019-06-17T01:22:40.296601Z",
     "start_time": "2019-06-17T01:22:40.251721Z"
    },
    "id": "yVIqX7HBLNP9",
    "outputId": "26f47e5f-7927-4ceb-e7aa-148b1a0d6798"
   },
   "outputs": [
    {
     "name": "stdout",
     "output_type": "stream",
     "text": [
      "i | Stem           Lemma\n",
      "--| -------------- ------------\n",
      " 1| 'uss'          'USS'       \n",
      " 2| 'enterpris'    'Enterprise'\n",
      " 3| '(ncc-1701-d)'   '(NCC-1701-D)'\n",
      " 4| 'for'          'For'       \n",
      " 5| 'five'         'five'      \n",
      " 6| 'hundr'        'hundred'   \n",
      " 7| 'years,'       'years,'    \n",
      " 8| 'everi'        'every'     \n",
      " 9| 'ship'         'ship'      \n",
      "10| 'that'         'that'      \n",
      "11| 'ha'           'ha'        \n",
      "12| 'born'         'borne'     \n",
      "13| 'the'          'the'       \n",
      "14| 'name'         'name'      \n",
      "15| 'of'           'of'        \n",
      "16| 'the'          'the'       \n",
      "17| 'enterpris'    'Enterprise'\n",
      "18| 'ha'           'ha'        \n",
      "19| 'becom'        'become'    \n",
      "20| 'a'            'a'         \n",
      "21| 'legend.'      'legend.'   \n"
     ]
    }
   ],
   "source": [
    "## nltk\n",
    "dot = stemmed.find('.') + 1\n",
    "sl = stemmed[:dot].split()\n",
    "dot = lemma.find('.') + 1\n",
    "ll = lemma[:dot].split()\n",
    "\n",
    "print('i | Stem           Lemma')\n",
    "print('--| -------------- ------------')\n",
    "for i, p in enumerate(zip(sl, ll)):\n",
    "    print('%2d| %-12r   %-12r' % (i+1, p[0], p[1]))"
   ]
  },
  {
   "cell_type": "code",
   "execution_count": null,
   "metadata": {
    "ExecuteTime": {
     "end_time": "2019-06-17T01:22:47.305414Z",
     "start_time": "2019-06-17T01:22:47.017187Z"
    },
    "id": "eG4yOgwVLNP-",
    "outputId": "70476f16-7ac6-4c40-e39f-7a6547c11fec"
   },
   "outputs": [
    {
     "data": {
      "image/png": "[encoded data removed]",
      "text/plain": [
       "<matplotlib.figure.Figure at 0x1eddb59e908>"
      ]
     },
     "metadata": {
      "needs_background": "light",
      "tags": []
     },
     "output_type": "display_data"
    }
   ],
   "source": [
    "plot_words(stemmed.split())"
   ]
  },
  {
   "cell_type": "code",
   "execution_count": null,
   "metadata": {
    "ExecuteTime": {
     "end_time": "2019-06-17T01:22:50.433861Z",
     "start_time": "2019-06-17T01:22:50.144603Z"
    },
    "id": "uEJR57TYLNQA",
    "outputId": "e96f9bb4-cdfc-432c-b0af-bcdb3a6c2c6c",
    "scrolled": true
   },
   "outputs": [
    {
     "data": {
      "image/png": "[encoded data removed]",
      "text/plain": [
       "<matplotlib.figure.Figure at 0x1eddb6457b8>"
      ]
     },
     "metadata": {
      "needs_background": "light",
      "tags": []
     },
     "output_type": "display_data"
    }
   ],
   "source": [
    "plot_words(lemma.split())"
   ]
  },
  {
   "cell_type": "markdown",
   "metadata": {
    "id": "Y_g-Oy2VUH3Z"
   },
   "source": [
    "### Entity recognition"
   ]
  },
  {
   "cell_type": "code",
   "execution_count": null,
   "metadata": {
    "ExecuteTime": {
     "end_time": "2019-06-17T01:22:59.142869Z",
     "start_time": "2019-06-17T01:22:58.754906Z"
    },
    "id": "sw6fYdgXLNQG",
    "outputId": "a83ea9db-825d-4031-8112-f022b71f565b"
   },
   "outputs": [
    {
     "name": "stdout",
     "output_type": "stream",
     "text": [
      "ORGANIZATION: USS Enterprise\n",
      "ORGANIZATION: Enterprise\n",
      "ORGANIZATION: USS Enterprise\n",
      "PERSON      : United Federation\n",
      "ORGANIZATION: Planets Galaxy\n",
      "PERSON      : Starfleet\n",
      "ORGANIZATION: Enterprise\n",
      "ORGANIZATION: Federation\n",
      "ORGANIZATION: Battle\n",
      "GPE         : Veridian\n",
      "PERSON      : History Construction\n",
      "ORGANIZATION: Enterprise\n",
      "ORGANIZATION: Utopia Planitia Fleet\n",
      "PERSON      : Mars\n",
      "ORGANIZATION: Solar\n",
      "ORGANIZATION: Commander Orfil Quinteros\n",
      "PERSON      : Brahms\n",
      "ORGANIZATION: Enterprise\n",
      "ORGANIZATION: Enterprise\n",
      "ORGANIZATION: USS Pegasus\n",
      "ORGANIZATION: Utopia Planitia\n",
      "PERSON      : Walter Pierce\n",
      "PERSON      : Marla Finn\n",
      "PERSON      : William Hodges\n",
      "PERSON      : Pierce\n",
      "ORGANIZATION: Enterprise\n",
      "PERSON      : Mars\n",
      "ORGANIZATION: Enterprise\n",
      "ORGANIZATION: Enterprise\n",
      "FACILITY    : Earth Station McKinley\n",
      "PERSON      : Captain Jean-Luc Picard\n",
      "ORGANIZATION: Rear Admiral Norah Satie\n",
      "PERSON      : Legacy Commander Riker\n",
      "ORGANIZATION: Enterprise\n",
      "PERSON      : Picard\n",
      "PERSON      : Deep Space\n",
      "GPE         : Starfleet\n",
      "PERSON      : Captain Benjamin Sisko\n",
      "ORGANIZATION: Enterprise\n",
      "GPE         : Worf\n",
      "ORGANIZATION: Enterprise\n",
      "PERSON      : Captain Picard\n",
      "ORGANIZATION: Class Sovereign\n",
      "ORGANIZATION: Enterprise\n",
      "PERSON      : Picard\n",
      "ORGANIZATION: CO\n",
      "GPE         : Worf\n",
      "ORGANIZATION: DS9\n"
     ]
    }
   ],
   "source": [
    "## nltk\n",
    "entities = nltk.chunk.ne_chunk(tagged)\n",
    "\n",
    "for e in entities:\n",
    "    s = re.sub(r'[\\(\\)]', '', str(e))\n",
    "    if s.find('/NNP') > 0:\n",
    "        t = s.split()[0]\n",
    "        n = ' '.join([re.sub(r'/NNP', '', x) for x in s.split()[1:]])\n",
    "        print('%-12s: %s' % (t, n))"
   ]
  },
  {
   "cell_type": "markdown",
   "metadata": {
    "id": "RERADKgNFq9T"
   },
   "source": [
    "\n",
    "\n",
    "---\n",
    "\n",
    "\n",
    "\n",
    "---\n",
    "\n",
    "\n",
    "\n",
    "> > > > > > > > > © 2024 Institute of Data\n",
    "\n",
    "\n",
    "---\n",
    "\n",
    "\n",
    "\n",
    "---\n",
    "\n",
    "\n",
    "\n"
   ]
  }
 ],
 "metadata": {
  "colab": {
   "provenance": []
  },
  "kernelspec": {
   "display_name": "Python 3 (ipykernel)",
   "language": "python",
   "name": "python3"
  },
  "language_info": {
   "codemirror_mode": {
    "name": "ipython",
    "version": 3
   },
   "file_extension": ".py",
   "mimetype": "text/x-python",
   "name": "python",
   "nbconvert_exporter": "python",
   "pygments_lexer": "ipython3",
   "version": "3.10.14"
  },
  "varInspector": {
   "cols": {
    "lenName": 16,
    "lenType": 16,
    "lenVar": 40
   },
   "kernels_config": {
    "python": {
     "delete_cmd_postfix": "",
     "delete_cmd_prefix": "del ",
     "library": "var_list.py",
     "varRefreshCmd": "print(var_dic_list())"
    },
    "r": {
     "delete_cmd_postfix": ") ",
     "delete_cmd_prefix": "rm(",
     "library": "var_list.r",
     "varRefreshCmd": "cat(var_dic_list()) "
    }
   },
   "types_to_exclude": [
    "module",
    "function",
    "builtin_function_or_method",
    "instance",
    "_Feature"
   ],
   "window_display": false
  }
 },
 "nbformat": 4,
 "nbformat_minor": 4
}
